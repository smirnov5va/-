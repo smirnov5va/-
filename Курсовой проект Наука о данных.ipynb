{
 "cells": [
  {
   "cell_type": "code",
   "execution_count": null,
   "id": "19f78aff",
   "metadata": {},
   "outputs": [],
   "source": [
    "# Импорт библиотек\n",
    "import pandas as pd\n",
    "import numpy as np\n",
    "from datetime import datetime\n",
    "from lightgbm import LGBMRegressor\n",
    "import gresearch_crypto\n",
    "import traceback\n",
    "import time\n",
    "from datetime import datetime\n",
    "import matplotlib.pyplot as plt\n",
    "import plotly.graph_objects as go\n",
    "from sklearn.model_selection import GridSearchCV\n",
    "import seaborn as sns\n",
    "from sklearn.model_selection import train_test_split"
   ]
  },
  {
   "cell_type": "code",
   "execution_count": null,
   "id": "76b141e2",
   "metadata": {},
   "outputs": [],
   "source": [
    "# Импорт данных \n",
    "path = \"/Users/vladislav/Desktop/учеба /наука о данных /\"\n",
    "df_train = pd.read_csv(path + \"train.csv\")\n",
    "df_test = pd.read_csv(path + \"example_test.csv\")\n",
    "df_asset_details = pd.read_csv(path + \"asset_details.csv\")\n",
    "df_supp_train = pd.read_csv(path + \"supplemental_train.csv\")"
   ]
  },
  {
   "cell_type": "code",
   "execution_count": null,
   "id": "ed337583",
   "metadata": {},
   "outputs": [],
   "source": [
    "# HeatMap с фичями BTC\n",
    "plt.figure(figsize=(8,6))\n",
    "sns.heatmap(btc[['Count','Open','High','Low','Close','Volume','VWAP','Target']].corr(), \n",
    "            vmin=-1.0, vmax=1.0, annot=True, cmap='coolwarm', linewidths=0.1)\n",
    "plt.show()"
   ]
  },
  {
   "cell_type": "code",
   "execution_count": null,
   "id": "ba809ca4",
   "metadata": {},
   "outputs": [],
   "source": [
    "# Визуализация временных рядов\n",
    "btc_mini = btc.iloc[-200:] \n",
    "eth_mini = eth.iloc[-200:]\n",
    "\n",
    "fig = go.Figure(data=[go.Candlestick(x=btc_mini.index, open=btc_mini['Open'], high=btc_mini['High'], low=btc_mini['Low'], close=btc_mini['Close'])])\n",
    "fig.update_xaxes(title_text=\"$\")\n",
    "fig.update_yaxes(title_text=\"Index\")\n",
    "fig.update_layout(title=\"Bitcoin Price, 200 Last Minutes\")\n",
    "fig.show()\n",
    "\n",
    "fig = go.Figure(data=[go.Candlestick(x=eth_mini.index, open=eth_mini['Open'], high=eth_mini['High'], low=eth_mini['Low'], close=eth_mini['Close'])])\n",
    "fig.update_xaxes(title_text=\"$\")\n",
    "fig.update_yaxes(title_text=\"Index\")\n",
    "fig.update_layout(title=\"Ethereum Price, 200 Last Minutes\")\n",
    "fig.show()"
   ]
  },
  {
   "cell_type": "code",
   "execution_count": null,
   "id": "58c10c17",
   "metadata": {},
   "outputs": [],
   "source": [
    "# Мы определяем несколько функций, чтобы добавить их к списку признаков, используемых для прогнозирования\n",
    "def hlco_ratio(df): \n",
    "    return (df['High'] - df['Low'])/(df['Close']-df['Open'])\n",
    "def upper_shadow(df):\n",
    "    return df['High'] - np.maximum(df['Close'], df['Open'])\n",
    "def lower_shadow(df):\n",
    "    return np.minimum(df['Close'], df['Open']) - df['Low']\n",
    "\n",
    "def get_features(df):\n",
    "    df_feat = df[['Count', 'Open', 'High', 'Low', 'Close', 'Volume', 'VWAP']].copy()\n",
    "    df_feat['Upper_Shadow'] = upper_shadow(df_feat)\n",
    "    df_feat['hlco_ratio'] = hlco_ratio(df_feat)\n",
    "    df_feat['Lower_Shadow'] = lower_shadow(df_feat)\n",
    "    return df_feat"
   ]
  },
  {
   "cell_type": "code",
   "execution_count": null,
   "id": "212dd5f7",
   "metadata": {},
   "outputs": [],
   "source": [
    "# Построение модели прогнозирования\n",
    "train_data = df_train\n",
    "\n",
    "def get_Xy_and_model_for_asset(df_train, asset_id):\n",
    "    df = df_train[df_train[\"Asset_ID\"] == asset_id]\n",
    "    \n",
    "    df = df.sample(frac=0.2)\n",
    "    df_proc = get_features(df)\n",
    "    df_proc['y'] = df['Target']\n",
    "    df_proc.replace([np.inf, -np.inf], np.nan, inplace=True)\n",
    "    df_proc = df_proc.dropna(how=\"any\")\n",
    "    \n",
    "    \n",
    "    X = df_proc.drop(\"y\", axis=1)\n",
    "    y = df_proc[\"y\"]   \n",
    "    model = LGBMRegressor()\n",
    "    model.fit(X, y)\n",
    "    return X, y, model\n",
    "\n",
    "Xs = {}\n",
    "ys = {}\n",
    "models = {}\n",
    "\n",
    "for asset_id, asset_name in zip(df_asset_details['Asset_ID'], df_asset_details['Asset_Name']):\n",
    "    print(f\"Training model for {asset_name:<16} (ID={asset_id:<2})\")\n",
    "    X, y, model = get_Xy_and_model_for_asset(train_data, asset_id)       \n",
    "    try:\n",
    "        Xs[asset_id], ys[asset_id], models[asset_id] = X, y, model\n",
    "    except: \n",
    "        Xs[asset_id], ys[asset_id], models[asset_id] = None, None, None "
   ]
  },
  {
   "cell_type": "code",
   "execution_count": null,
   "id": "3c5ec888",
   "metadata": {},
   "outputs": [],
   "source": [
    "# Подбор оптимальных гиперпараметров GridSearch \n",
    "parameters = {\n",
    "    # 'max_depth': range (2, 10, 1),\n",
    "    'num_leaves': range(21, 161, 10),\n",
    "    'learning_rate': [0.1, 0.01, 0.05]\n",
    "}\n",
    "\n",
    "new_models = {}\n",
    "for asset_id, asset_name in zip(df_asset_details['Asset_ID'], df_asset_details['Asset_Name']):\n",
    "    print(\"GridSearchCV for: \" + asset_name)\n",
    "    grid_search = GridSearchCV(\n",
    "        estimator=get_Xy_and_model_for_asset(df_train, asset_id)[2], # bitcoin\n",
    "        param_grid=parameters,\n",
    "        n_jobs = -1,\n",
    "        cv = 5,\n",
    "        verbose=True\n",
    "    )\n",
    "    grid_search.fit(Xs[asset_id], ys[asset_id])\n",
    "    new_models[asset_id] = grid_search.best_estimator_\n",
    "    grid_search.best_estimator_\n",
    "    \n",
    "for asset_id, asset_name in zip(df_asset_details['Asset_ID'], df_asset_details['Asset_Name']):\n",
    "    print(f\"Tuned model for {asset_name:<1} (ID={asset_id:})\")\n",
    "    print(new_models[asset_id])"
   ]
  },
  {
   "cell_type": "code",
   "execution_count": null,
   "id": "718f8eb6",
   "metadata": {},
   "outputs": [],
   "source": [
    "# Вывод предсказанных значений \n",
    "\n",
    "df_pred = []\n",
    "\n",
    "for j , row in valid_data.iterrows():        \n",
    "    if new_models[row['Asset_ID']] is not None:\n",
    "        model = new_models[row['Asset_ID']]\n",
    "        x_test = get_features(row)\n",
    "        y_pred = model.predict(pd.DataFrame([x_test]))[0]\n",
    "        df_pred.append(y_pred)\n",
    "    else: \n",
    "        df_pred.append(0)\n",
    "\n",
    "print(df_pred)"
   ]
  },
  {
   "cell_type": "code",
   "execution_count": null,
   "id": "c6a8b023",
   "metadata": {},
   "outputs": [],
   "source": [
    "env = gresearch_crypto.make_env()\n",
    "iter_test = env.iter_test()\n",
    "\n",
    "for i, (df_test, df_pred) in enumerate(iter_test):\n",
    "    for j , row in df_test.iterrows():        \n",
    "        if new_models[row['Asset_ID']] is not None:\n",
    "            try:\n",
    "                model = new_models[row['Asset_ID']]\n",
    "                x_test = get_features(row)\n",
    "                y_pred = model.predict(pd.DataFrame([x_test]))[0]\n",
    "                df_pred.loc[df_pred['row_id'] == row['row_id'], 'Target'] = y_pred\n",
    "            except:\n",
    "                df_pred.loc[df_pred['row_id'] == row['row_id'], 'Target'] = 0\n",
    "                traceback.print_exc()\n",
    "        else: \n",
    "            df_pred.loc[df_pred['row_id'] == row['row_id'], 'Target'] = 0  \n",
    "    \n",
    "    env.predict(df_pred)"
   ]
  },
  {
   "cell_type": "code",
   "execution_count": null,
   "id": "d9d5ba58",
   "metadata": {},
   "outputs": [],
   "source": []
  },
  {
   "cell_type": "code",
   "execution_count": null,
   "id": "bd33d252",
   "metadata": {},
   "outputs": [],
   "source": []
  }
 ],
 "metadata": {
  "kernelspec": {
   "display_name": "Python 3 (ipykernel)",
   "language": "python",
   "name": "python3"
  },
  "language_info": {
   "codemirror_mode": {
    "name": "ipython",
    "version": 3
   },
   "file_extension": ".py",
   "mimetype": "text/x-python",
   "name": "python",
   "nbconvert_exporter": "python",
   "pygments_lexer": "ipython3",
   "version": "3.11.5"
  }
 },
 "nbformat": 4,
 "nbformat_minor": 5
}
